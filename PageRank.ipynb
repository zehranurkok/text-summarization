{
 "cells": [
  {
   "cell_type": "code",
   "execution_count": 7,
   "metadata": {},
   "outputs": [
    {
     "name": "stderr",
     "output_type": "stream",
     "text": [
      "[nltk_data] Downloading package punkt to\n",
      "[nltk_data]     C:\\Users\\Zehra\\AppData\\Roaming\\nltk_data...\n",
      "[nltk_data]   Package punkt is already up-to-date!\n"
     ]
    }
   ],
   "source": [
    "import numpy as np\n",
    "import pandas as pd\n",
    "import nltk \n",
    "nltk.download('punkt')\n",
    "import re"
   ]
  },
  {
   "cell_type": "code",
   "execution_count": 8,
   "metadata": {},
   "outputs": [
    {
     "data": {
      "text/html": [
       "<div>\n",
       "<style scoped>\n",
       "    .dataframe tbody tr th:only-of-type {\n",
       "        vertical-align: middle;\n",
       "    }\n",
       "\n",
       "    .dataframe tbody tr th {\n",
       "        vertical-align: top;\n",
       "    }\n",
       "\n",
       "    .dataframe thead th {\n",
       "        text-align: right;\n",
       "    }\n",
       "</style>\n",
       "<table border=\"1\" class=\"dataframe\">\n",
       "  <thead>\n",
       "    <tr style=\"text-align: right;\">\n",
       "      <th></th>\n",
       "      <th>article_id</th>\n",
       "      <th>article_title</th>\n",
       "      <th>article_text</th>\n",
       "      <th>source</th>\n",
       "    </tr>\n",
       "  </thead>\n",
       "  <tbody>\n",
       "    <tr>\n",
       "      <th>0</th>\n",
       "      <td>1</td>\n",
       "      <td>How vaccinating monkeys could stop a pandemic</td>\n",
       "      <td>Yellow fever kills some 15% of those infected,...</td>\n",
       "      <td>https://www.bbc.com/future/article/20210208-ye...</td>\n",
       "    </tr>\n",
       "    <tr>\n",
       "      <th>1</th>\n",
       "      <td>2</td>\n",
       "      <td>The disease-resistant patients exposing Covid-...</td>\n",
       "      <td>Some people are unusually resilient to the cor...</td>\n",
       "      <td>https://www.bbc.com/future/article/20210219-th...</td>\n",
       "    </tr>\n",
       "    <tr>\n",
       "      <th>2</th>\n",
       "      <td>3</td>\n",
       "      <td>Covid-19 paused climate emissions  but they'r...</td>\n",
       "      <td>The world's sudden launch into lockdown a year...</td>\n",
       "      <td>https://www.bbc.com/future/article/20210312-co...</td>\n",
       "    </tr>\n",
       "    <tr>\n",
       "      <th>3</th>\n",
       "      <td>4</td>\n",
       "      <td>What we know and don't know about Covid-19</td>\n",
       "      <td>Over the past year, BBC Future has aimed to go...</td>\n",
       "      <td>https://www.bbc.com/future/article/20210224-th...</td>\n",
       "    </tr>\n",
       "    <tr>\n",
       "      <th>4</th>\n",
       "      <td>5</td>\n",
       "      <td>The remarkable power of Australian kelp</td>\n",
       "      <td>Algae is a powerhouse for the climate, sending...</td>\n",
       "      <td>https://www.bbc.com/future/article/20210406-ho...</td>\n",
       "    </tr>\n",
       "  </tbody>\n",
       "</table>\n",
       "</div>"
      ],
      "text/plain": [
       "   article_id                                      article_title  \\\n",
       "0           1      How vaccinating monkeys could stop a pandemic   \n",
       "1           2  The disease-resistant patients exposing Covid-...   \n",
       "2           3  Covid-19 paused climate emissions  but they'r...   \n",
       "3           4         What we know and don't know about Covid-19   \n",
       "4           5            The remarkable power of Australian kelp   \n",
       "\n",
       "                                        article_text  \\\n",
       "0  Yellow fever kills some 15% of those infected,...   \n",
       "1  Some people are unusually resilient to the cor...   \n",
       "2  The world's sudden launch into lockdown a year...   \n",
       "3  Over the past year, BBC Future has aimed to go...   \n",
       "4  Algae is a powerhouse for the climate, sending...   \n",
       "\n",
       "                                              source  \n",
       "0  https://www.bbc.com/future/article/20210208-ye...  \n",
       "1  https://www.bbc.com/future/article/20210219-th...  \n",
       "2  https://www.bbc.com/future/article/20210312-co...  \n",
       "3  https://www.bbc.com/future/article/20210224-th...  \n",
       "4  https://www.bbc.com/future/article/20210406-ho...  "
      ]
     },
     "execution_count": 8,
     "metadata": {},
     "output_type": "execute_result"
    }
   ],
   "source": [
    "# Read data\n",
    "df = pd.read_csv('articles.csv',encoding='latin1')\n",
    "df.head()"
   ]
  },
  {
   "cell_type": "code",
   "execution_count": 9,
   "metadata": {},
   "outputs": [
    {
     "data": {
      "text/plain": [
       "\"Yellow fever kills some 15% of those infected, but has an effective vaccine. Barriers to vaccinating people in potential hotspots means scientists are turning to a surprising alternative: vaccinating monkeys.\\nOn a cloudy morning in October, a team of scientists set off into Brazil's Atlantic Forest, looking for monkeys. One man carried what looked like an old TV antenna and a machete. A woman beside him held a small metal cage \\x96 a trap \\x96 and two bags full of bananas.\\n\\nTheir mission: stop the next outbreak of yellow fever in monkeys before it spreads to humans.\\n\\nBrazil may be trying to cope with the second-highest rate of Covid-19 deaths in the world, after the United States. But the scientists fear this other, far more lethal disease is in danger of erupting in the South American country once again. Yellow fever infects some 200,000 people and kills 30,000 of them each year, more than terrorist attacks and plane crashes combined.\\n\\nCaused by a virus spread between humans and primates via mosquitoes, its symptoms include severe fever, headaches, and in some patients, jaundice \\x96 the yellowing of the skin that gives the disease its name. Severe cases can lead to internal bleeding and liver failure. Approximately 15% of people afflicted by yellow fever will die from it if unvaccinated, a death rate far higher than Covid-19.\\n\\nThis story is the part of Stopping the Next One \\x96 our multimedia series looking at which diseases are most likely to cause the next global pandemic, and at the scientists racing to keep that from happening. Find out more about the series, and read the other stories, here.\\nIn recent years, Brazil has seen more yellow fever cases than any other country. In December 2016, an outbreak began in Minas Gerais and spread to neighbouring Espírito Santo, both in the middle of the Atlantic Forest. At the time, some 40 million Brazilians at risk of yellow fever lacked vaccinations. By May 2017 it had spread across Brazil, with hotspots in the neighbouring states of Rio de Janeiro and Minas Gerais, but with additional outbreaks as far as the northern state of Pará, nearly 3,000 miles (4,800km) away.\\n\\nIt was the worst outbreak in more than 80 years. More than 3,000 people were infected. Nearly 400 died in a matter of months.\\nBy the time the data has been ingested and processed, everything has moved on risking outdated and irrelevant \\x91insights.\""
      ]
     },
     "execution_count": 9,
     "metadata": {},
     "output_type": "execute_result"
    }
   ],
   "source": [
    "# Article example\n",
    "df['article_text'][0]"
   ]
  },
  {
   "cell_type": "code",
   "execution_count": 10,
   "metadata": {},
   "outputs": [],
   "source": [
    "# Splitting text into sentences\n",
    "from nltk.tokenize import sent_tokenize\n",
    "sentences = []\n",
    "for s in df['article_text']:\n",
    "    sentences.append(sent_tokenize(s))\n",
    "    \n",
    "sentences = [y for x in sentences for y in x]"
   ]
  },
  {
   "cell_type": "code",
   "execution_count": 11,
   "metadata": {},
   "outputs": [
    {
     "data": {
      "text/plain": [
       "['Yellow fever kills some 15% of those infected, but has an effective vaccine.',\n",
       " 'Barriers to vaccinating people in potential hotspots means scientists are turning to a surprising alternative: vaccinating monkeys.',\n",
       " \"On a cloudy morning in October, a team of scientists set off into Brazil's Atlantic Forest, looking for monkeys.\"]"
      ]
     },
     "execution_count": 11,
     "metadata": {},
     "output_type": "execute_result"
    }
   ],
   "source": [
    "# Sentence example\n",
    "sentences[:3]"
   ]
  },
  {
   "cell_type": "code",
   "execution_count": 13,
   "metadata": {},
   "outputs": [
    {
     "data": {
      "text/plain": [
       "400000"
      ]
     },
     "execution_count": 13,
     "metadata": {},
     "output_type": "execute_result"
    }
   ],
   "source": [
    "# Extracting word vectors\n",
    "word_embeddings = {}\n",
    "f = open('glove.6B.100d.txt', encoding = 'utf-8')\n",
    "for line in f:\n",
    "    values = line.split()\n",
    "    word = values[0]\n",
    "    coefs = np.asarray(values[1:], dtype = 'float32')\n",
    "    word_embeddings[word] = coefs\n",
    "f.close()\n",
    "\n",
    "len(word_embeddings)"
   ]
  },
  {
   "cell_type": "code",
   "execution_count": 14,
   "metadata": {},
   "outputs": [],
   "source": [
    "# Removing punctuation, numbers, and special expressions\n",
    "clean_sentences = pd.Series(sentences).str.replace(\"[^a-zA-Z]\", \" \")\n",
    "\n",
    "# Making all letters in lowercase\n",
    "clean_sentences = [s.lower() for s in clean_sentences]"
   ]
  },
  {
   "cell_type": "code",
   "execution_count": 15,
   "metadata": {},
   "outputs": [
    {
     "name": "stderr",
     "output_type": "stream",
     "text": [
      "[nltk_data] Downloading package stopwords to\n",
      "[nltk_data]     C:\\Users\\Zehra\\AppData\\Roaming\\nltk_data...\n",
      "[nltk_data]   Package stopwords is already up-to-date!\n"
     ]
    },
    {
     "data": {
      "text/plain": [
       "True"
      ]
     },
     "execution_count": 15,
     "metadata": {},
     "output_type": "execute_result"
    }
   ],
   "source": [
    "# Nltk-stopwords is downloaded to extract common words (is, am, the, of, in, etc.) in sentences.\n",
    "nltk.download('stopwords')"
   ]
  },
  {
   "cell_type": "code",
   "execution_count": 17,
   "metadata": {},
   "outputs": [],
   "source": [
    "from nltk.corpus import stopwords\n",
    "stop_words = stopwords.words('english')\n",
    "\n",
    "# Removal of stopwords\n",
    "def remove_stopwords(sen):\n",
    "    sen_new = \" \".join([i for i in sen if i not in stop_words])\n",
    "    return sen_new\n",
    "\n",
    "clean_sentences = [remove_stopwords(r.split()) for r in clean_sentences]"
   ]
  },
  {
   "cell_type": "code",
   "execution_count": 18,
   "metadata": {},
   "outputs": [],
   "source": [
    "# Creation of vectors for sentences\n",
    "sentence_vectors = [] \n",
    "for i in clean_sentences:\n",
    "    if len(i) != 0:\n",
    "        v = sum([word_embeddings.get(w, np.zeros((100,))) for w in i.split()])/(len(i.split())+0.001)\n",
    "    else:\n",
    "        v= np.zeros((100,))\n",
    "    sentence_vectors.append(v)"
   ]
  },
  {
   "cell_type": "code",
   "execution_count": 19,
   "metadata": {},
   "outputs": [],
   "source": [
    "# Similarity matrix\n",
    "sim_mat = np.zeros([len(sentences), len(sentences)])"
   ]
  },
  {
   "cell_type": "code",
   "execution_count": 20,
   "metadata": {},
   "outputs": [],
   "source": [
    "# Cosine Similarity is used to calculate the similarity between two sentences.\n",
    "from sklearn.metrics.pairwise import cosine_similarity\n",
    "\n",
    "for i in range(len(sentences)):\n",
    "    for j in range(len(sentences)):\n",
    "        if i != j:\n",
    "            sim_mat[i][j] = cosine_similarity(sentence_vectors[i].reshape(1,100), sentence_vectors[j].reshape(1,100))[0,0]"
   ]
  },
  {
   "cell_type": "code",
   "execution_count": 21,
   "metadata": {},
   "outputs": [],
   "source": [
    "# Implementing the PageRank Algorithm\n",
    "import networkx as nx\n",
    "\n",
    "nx_graph = nx.from_numpy_array(sim_mat)\n",
    "scores = nx.pagerank(nx_graph)"
   ]
  },
  {
   "cell_type": "code",
   "execution_count": 24,
   "metadata": {},
   "outputs": [
    {
     "data": {
      "text/plain": [
       "['Yellow fever kills some 15% of those infected, but has an effective vaccine.',\n",
       " 'Barriers to vaccinating people in potential hotspots means scientists are turning to a surprising alternative: vaccinating monkeys.',\n",
       " \"On a cloudy morning in October, a team of scientists set off into Brazil's Atlantic Forest, looking for monkeys.\",\n",
       " 'One man carried what looked like an old TV antenna and a machete.',\n",
       " 'A woman beside him held a small metal cage \\x96 a trap \\x96 and two bags full of bananas.',\n",
       " 'Their mission: stop the next outbreak of yellow fever in monkeys before it spreads to humans.',\n",
       " 'Brazil may be trying to cope with the second-highest rate of Covid-19 deaths in the world, after the United States.',\n",
       " 'But the scientists fear this other, far more lethal disease is in danger of erupting in the South American country once again.',\n",
       " 'Yellow fever infects some 200,000 people and kills 30,000 of them each year, more than terrorist attacks and plane crashes combined.',\n",
       " 'Caused by a virus spread between humans and primates via mosquitoes, its symptoms include severe fever, headaches, and in some patients, jaundice \\x96 the yellowing of the skin that gives the disease its name.']"
      ]
     },
     "execution_count": 24,
     "metadata": {},
     "output_type": "execute_result"
    }
   ],
   "source": [
    "# To obtain the summary, the first 10 sentences in the sequence are printed.\n",
    "sentences[:10]"
   ]
  },
  {
   "cell_type": "code",
   "execution_count": null,
   "metadata": {},
   "outputs": [],
   "source": []
  }
 ],
 "metadata": {
  "kernelspec": {
   "display_name": "Python 3",
   "language": "python",
   "name": "python3"
  },
  "language_info": {
   "codemirror_mode": {
    "name": "ipython",
    "version": 3
   },
   "file_extension": ".py",
   "mimetype": "text/x-python",
   "name": "python",
   "nbconvert_exporter": "python",
   "pygments_lexer": "ipython3",
   "version": "3.8.5"
  }
 },
 "nbformat": 4,
 "nbformat_minor": 4
}
